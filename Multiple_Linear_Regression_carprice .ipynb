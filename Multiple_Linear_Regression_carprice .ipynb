{
 "cells": [
  {
   "cell_type": "markdown",
   "id": "aea4ddfa",
   "metadata": {},
   "source": [
    "<h1><center> Car Price Prediction Multiple Linear Regression </center></h1>"
   ]
  },
  {
   "cell_type": "markdown",
   "id": "f351d95e",
   "metadata": {},
   "source": [
    "## About Dataset"
   ]
  },
  {
   "cell_type": "markdown",
   "id": "5e644de8",
   "metadata": {},
   "source": [
    "**Problem Statement**\n",
    "A Chinese automobile company Geely Auto aspires to enter the US market by setting up their manufacturing unit there and producing cars locally to give competition to their US and European counterparts.\n",
    "\n",
    "They have contracted an automobile consulting company to understand the factors on which the pricing of cars depends. Specifically, they want to understand the factors affecting the pricing of cars in the American market, since those may be very different from the Chinese market. The company wants to know:\n",
    "\n",
    "Which variables are significant in predicting the price of a car?\n",
    "How well those variables describe the price of a car?"
   ]
  },
  {
   "cell_type": "markdown",
   "id": "3f6e2a5a",
   "metadata": {},
   "source": [
    "|-|Variable|Description|\n",
    "|-|--------|-----------|\n",
    "|1|Car_ID|Unique id of each observation |\n",
    "|2|Symboling |Its assigned insurance risk rating, A value of +3 indicates that the auto is risky, -3 that it is probably pretty safe.|\n",
    "|3|carCompany|Name of car company|\n",
    "|4|fueltype|Car fuel type i.e gas or diesel|\n",
    "|5|aspiration|Aspiration used in a car|\n",
    "|6|doornumber|Number of doors in a car |\n",
    "|7|carbody|body of car|\n",
    "|8|drivewheel|type of drive wheel|\n",
    "|9|enginelocation|Location of car engine|\n",
    "|10|wheelbase|Weelbase of car|\n",
    "|11|carlength|Length of car|\n",
    "|12|carwidth|Width of car|\n",
    "|13|carheight|height of car|\n",
    "|14|curbweight|The weight of a car without occupants or baggage.|\n",
    "|15|enginetype|Type of engine|\n",
    "|16|cylindernumber|cylinder placed in the car |\n",
    "|17|enginesize|Size of car|\n",
    "|18|fuelsystem|Fuel system of car|\n",
    "|19|boreratio|Boreratio of car|\n",
    "|20|stroke|Stroke or volume inside the engine |\n",
    "|21|compressionratio|compression ratio of car|\n",
    "|22|horsepower|Horsepower |\n",
    "|23|peakrpm|car peak rpm |\n",
    "|24|citympg|Mileage in city|\n",
    "|25|highwaympg|Mileage on highway|\n",
    "|26|price(Dependent variable)|Price of car |"
   ]
  },
  {
   "cell_type": "markdown",
   "id": "4866e2c0",
   "metadata": {},
   "source": [
    "<h2>Table of Contents</h2>\n",
    "<div class=\"alert alert-block alert-info\" style=\"margin-top: 20px\">\n",
    "    <ul>\n",
    "        <li>Load the Data</li>\n",
    "        <li>Data Wrangling</li>\n",
    "        <li>Dummy Variable</li>\n",
    "        <li>Normal Distribution Test</li>\n",
    "        <li>Transforms Data Into a Normal Distribution</li>\n",
    "        <li>Remove Outliers</li>\n",
    "        <li>Multiple Linear Regression</li>\n",
    "        <li>Forward selection</li>\n",
    "        <li>Final Estimated Linear Model</li>\n",
    "        <li>Distribution Plot</li>"
   ]
  },
  {
   "cell_type": "code",
   "execution_count": 1,
   "id": "5094f13a",
   "metadata": {},
   "outputs": [],
   "source": [
    "# import all libraries\n",
    "import opendatasets as od\n",
    "import pandas as pd\n",
    "import numpy as np\n",
    "import seaborn as sns\n",
    "import matplotlib.pyplot as plt\n",
    "import statistics"
   ]
  },
  {
   "cell_type": "markdown",
   "id": "2452384b",
   "metadata": {},
   "source": [
    "## Load the Data"
   ]
  },
  {
   "cell_type": "code",
   "execution_count": 2,
   "id": "8f89edee",
   "metadata": {},
   "outputs": [],
   "source": [
    "#import opendatasets as od\n",
    "#od.download('https://www.kaggle.com/datasets/hellbuoy/car-price-prediction/download?datasetVersionNumber=1')"
   ]
  },
  {
   "cell_type": "code",
   "execution_count": 3,
   "id": "02239cbf",
   "metadata": {},
   "outputs": [
    {
     "data": {
      "text/html": [
       "<div>\n",
       "<style scoped>\n",
       "    .dataframe tbody tr th:only-of-type {\n",
       "        vertical-align: middle;\n",
       "    }\n",
       "\n",
       "    .dataframe tbody tr th {\n",
       "        vertical-align: top;\n",
       "    }\n",
       "\n",
       "    .dataframe thead th {\n",
       "        text-align: right;\n",
       "    }\n",
       "</style>\n",
       "<table border=\"1\" class=\"dataframe\">\n",
       "  <thead>\n",
       "    <tr style=\"text-align: right;\">\n",
       "      <th></th>\n",
       "      <th>car_ID</th>\n",
       "      <th>symboling</th>\n",
       "      <th>CarName</th>\n",
       "      <th>fueltype</th>\n",
       "      <th>aspiration</th>\n",
       "      <th>doornumber</th>\n",
       "      <th>carbody</th>\n",
       "      <th>drivewheel</th>\n",
       "      <th>enginelocation</th>\n",
       "      <th>wheelbase</th>\n",
       "      <th>...</th>\n",
       "      <th>enginesize</th>\n",
       "      <th>fuelsystem</th>\n",
       "      <th>boreratio</th>\n",
       "      <th>stroke</th>\n",
       "      <th>compressionratio</th>\n",
       "      <th>horsepower</th>\n",
       "      <th>peakrpm</th>\n",
       "      <th>citympg</th>\n",
       "      <th>highwaympg</th>\n",
       "      <th>price</th>\n",
       "    </tr>\n",
       "  </thead>\n",
       "  <tbody>\n",
       "    <tr>\n",
       "      <th>0</th>\n",
       "      <td>1</td>\n",
       "      <td>3</td>\n",
       "      <td>alfa-romero giulia</td>\n",
       "      <td>gas</td>\n",
       "      <td>std</td>\n",
       "      <td>two</td>\n",
       "      <td>convertible</td>\n",
       "      <td>rwd</td>\n",
       "      <td>front</td>\n",
       "      <td>88.6</td>\n",
       "      <td>...</td>\n",
       "      <td>130</td>\n",
       "      <td>mpfi</td>\n",
       "      <td>3.47</td>\n",
       "      <td>2.68</td>\n",
       "      <td>9.0</td>\n",
       "      <td>111</td>\n",
       "      <td>5000</td>\n",
       "      <td>21</td>\n",
       "      <td>27</td>\n",
       "      <td>13495.000</td>\n",
       "    </tr>\n",
       "    <tr>\n",
       "      <th>1</th>\n",
       "      <td>2</td>\n",
       "      <td>3</td>\n",
       "      <td>alfa-romero stelvio</td>\n",
       "      <td>gas</td>\n",
       "      <td>std</td>\n",
       "      <td>two</td>\n",
       "      <td>convertible</td>\n",
       "      <td>rwd</td>\n",
       "      <td>front</td>\n",
       "      <td>88.6</td>\n",
       "      <td>...</td>\n",
       "      <td>130</td>\n",
       "      <td>mpfi</td>\n",
       "      <td>3.47</td>\n",
       "      <td>2.68</td>\n",
       "      <td>9.0</td>\n",
       "      <td>111</td>\n",
       "      <td>5000</td>\n",
       "      <td>21</td>\n",
       "      <td>27</td>\n",
       "      <td>16500.000</td>\n",
       "    </tr>\n",
       "    <tr>\n",
       "      <th>2</th>\n",
       "      <td>3</td>\n",
       "      <td>1</td>\n",
       "      <td>alfa-romero Quadrifoglio</td>\n",
       "      <td>gas</td>\n",
       "      <td>std</td>\n",
       "      <td>two</td>\n",
       "      <td>hatchback</td>\n",
       "      <td>rwd</td>\n",
       "      <td>front</td>\n",
       "      <td>94.5</td>\n",
       "      <td>...</td>\n",
       "      <td>152</td>\n",
       "      <td>mpfi</td>\n",
       "      <td>2.68</td>\n",
       "      <td>3.47</td>\n",
       "      <td>9.0</td>\n",
       "      <td>154</td>\n",
       "      <td>5000</td>\n",
       "      <td>19</td>\n",
       "      <td>26</td>\n",
       "      <td>16500.000</td>\n",
       "    </tr>\n",
       "    <tr>\n",
       "      <th>3</th>\n",
       "      <td>4</td>\n",
       "      <td>2</td>\n",
       "      <td>audi 100 ls</td>\n",
       "      <td>gas</td>\n",
       "      <td>std</td>\n",
       "      <td>four</td>\n",
       "      <td>sedan</td>\n",
       "      <td>fwd</td>\n",
       "      <td>front</td>\n",
       "      <td>99.8</td>\n",
       "      <td>...</td>\n",
       "      <td>109</td>\n",
       "      <td>mpfi</td>\n",
       "      <td>3.19</td>\n",
       "      <td>3.40</td>\n",
       "      <td>10.0</td>\n",
       "      <td>102</td>\n",
       "      <td>5500</td>\n",
       "      <td>24</td>\n",
       "      <td>30</td>\n",
       "      <td>13950.000</td>\n",
       "    </tr>\n",
       "    <tr>\n",
       "      <th>4</th>\n",
       "      <td>5</td>\n",
       "      <td>2</td>\n",
       "      <td>audi 100ls</td>\n",
       "      <td>gas</td>\n",
       "      <td>std</td>\n",
       "      <td>four</td>\n",
       "      <td>sedan</td>\n",
       "      <td>4wd</td>\n",
       "      <td>front</td>\n",
       "      <td>99.4</td>\n",
       "      <td>...</td>\n",
       "      <td>136</td>\n",
       "      <td>mpfi</td>\n",
       "      <td>3.19</td>\n",
       "      <td>3.40</td>\n",
       "      <td>8.0</td>\n",
       "      <td>115</td>\n",
       "      <td>5500</td>\n",
       "      <td>18</td>\n",
       "      <td>22</td>\n",
       "      <td>17450.000</td>\n",
       "    </tr>\n",
       "    <tr>\n",
       "      <th>5</th>\n",
       "      <td>6</td>\n",
       "      <td>2</td>\n",
       "      <td>audi fox</td>\n",
       "      <td>gas</td>\n",
       "      <td>std</td>\n",
       "      <td>two</td>\n",
       "      <td>sedan</td>\n",
       "      <td>fwd</td>\n",
       "      <td>front</td>\n",
       "      <td>99.8</td>\n",
       "      <td>...</td>\n",
       "      <td>136</td>\n",
       "      <td>mpfi</td>\n",
       "      <td>3.19</td>\n",
       "      <td>3.40</td>\n",
       "      <td>8.5</td>\n",
       "      <td>110</td>\n",
       "      <td>5500</td>\n",
       "      <td>19</td>\n",
       "      <td>25</td>\n",
       "      <td>15250.000</td>\n",
       "    </tr>\n",
       "    <tr>\n",
       "      <th>6</th>\n",
       "      <td>7</td>\n",
       "      <td>1</td>\n",
       "      <td>audi 100ls</td>\n",
       "      <td>gas</td>\n",
       "      <td>std</td>\n",
       "      <td>four</td>\n",
       "      <td>sedan</td>\n",
       "      <td>fwd</td>\n",
       "      <td>front</td>\n",
       "      <td>105.8</td>\n",
       "      <td>...</td>\n",
       "      <td>136</td>\n",
       "      <td>mpfi</td>\n",
       "      <td>3.19</td>\n",
       "      <td>3.40</td>\n",
       "      <td>8.5</td>\n",
       "      <td>110</td>\n",
       "      <td>5500</td>\n",
       "      <td>19</td>\n",
       "      <td>25</td>\n",
       "      <td>17710.000</td>\n",
       "    </tr>\n",
       "    <tr>\n",
       "      <th>7</th>\n",
       "      <td>8</td>\n",
       "      <td>1</td>\n",
       "      <td>audi 5000</td>\n",
       "      <td>gas</td>\n",
       "      <td>std</td>\n",
       "      <td>four</td>\n",
       "      <td>wagon</td>\n",
       "      <td>fwd</td>\n",
       "      <td>front</td>\n",
       "      <td>105.8</td>\n",
       "      <td>...</td>\n",
       "      <td>136</td>\n",
       "      <td>mpfi</td>\n",
       "      <td>3.19</td>\n",
       "      <td>3.40</td>\n",
       "      <td>8.5</td>\n",
       "      <td>110</td>\n",
       "      <td>5500</td>\n",
       "      <td>19</td>\n",
       "      <td>25</td>\n",
       "      <td>18920.000</td>\n",
       "    </tr>\n",
       "    <tr>\n",
       "      <th>8</th>\n",
       "      <td>9</td>\n",
       "      <td>1</td>\n",
       "      <td>audi 4000</td>\n",
       "      <td>gas</td>\n",
       "      <td>turbo</td>\n",
       "      <td>four</td>\n",
       "      <td>sedan</td>\n",
       "      <td>fwd</td>\n",
       "      <td>front</td>\n",
       "      <td>105.8</td>\n",
       "      <td>...</td>\n",
       "      <td>131</td>\n",
       "      <td>mpfi</td>\n",
       "      <td>3.13</td>\n",
       "      <td>3.40</td>\n",
       "      <td>8.3</td>\n",
       "      <td>140</td>\n",
       "      <td>5500</td>\n",
       "      <td>17</td>\n",
       "      <td>20</td>\n",
       "      <td>23875.000</td>\n",
       "    </tr>\n",
       "    <tr>\n",
       "      <th>9</th>\n",
       "      <td>10</td>\n",
       "      <td>0</td>\n",
       "      <td>audi 5000s (diesel)</td>\n",
       "      <td>gas</td>\n",
       "      <td>turbo</td>\n",
       "      <td>two</td>\n",
       "      <td>hatchback</td>\n",
       "      <td>4wd</td>\n",
       "      <td>front</td>\n",
       "      <td>99.5</td>\n",
       "      <td>...</td>\n",
       "      <td>131</td>\n",
       "      <td>mpfi</td>\n",
       "      <td>3.13</td>\n",
       "      <td>3.40</td>\n",
       "      <td>7.0</td>\n",
       "      <td>160</td>\n",
       "      <td>5500</td>\n",
       "      <td>16</td>\n",
       "      <td>22</td>\n",
       "      <td>17859.167</td>\n",
       "    </tr>\n",
       "  </tbody>\n",
       "</table>\n",
       "<p>10 rows × 26 columns</p>\n",
       "</div>"
      ],
      "text/plain": [
       "   car_ID  symboling                   CarName fueltype aspiration doornumber  \\\n",
       "0       1          3        alfa-romero giulia      gas        std        two   \n",
       "1       2          3       alfa-romero stelvio      gas        std        two   \n",
       "2       3          1  alfa-romero Quadrifoglio      gas        std        two   \n",
       "3       4          2               audi 100 ls      gas        std       four   \n",
       "4       5          2                audi 100ls      gas        std       four   \n",
       "5       6          2                  audi fox      gas        std        two   \n",
       "6       7          1                audi 100ls      gas        std       four   \n",
       "7       8          1                 audi 5000      gas        std       four   \n",
       "8       9          1                 audi 4000      gas      turbo       four   \n",
       "9      10          0       audi 5000s (diesel)      gas      turbo        two   \n",
       "\n",
       "       carbody drivewheel enginelocation  wheelbase  ...  enginesize  \\\n",
       "0  convertible        rwd          front       88.6  ...         130   \n",
       "1  convertible        rwd          front       88.6  ...         130   \n",
       "2    hatchback        rwd          front       94.5  ...         152   \n",
       "3        sedan        fwd          front       99.8  ...         109   \n",
       "4        sedan        4wd          front       99.4  ...         136   \n",
       "5        sedan        fwd          front       99.8  ...         136   \n",
       "6        sedan        fwd          front      105.8  ...         136   \n",
       "7        wagon        fwd          front      105.8  ...         136   \n",
       "8        sedan        fwd          front      105.8  ...         131   \n",
       "9    hatchback        4wd          front       99.5  ...         131   \n",
       "\n",
       "   fuelsystem  boreratio  stroke compressionratio horsepower  peakrpm citympg  \\\n",
       "0        mpfi       3.47    2.68              9.0        111     5000      21   \n",
       "1        mpfi       3.47    2.68              9.0        111     5000      21   \n",
       "2        mpfi       2.68    3.47              9.0        154     5000      19   \n",
       "3        mpfi       3.19    3.40             10.0        102     5500      24   \n",
       "4        mpfi       3.19    3.40              8.0        115     5500      18   \n",
       "5        mpfi       3.19    3.40              8.5        110     5500      19   \n",
       "6        mpfi       3.19    3.40              8.5        110     5500      19   \n",
       "7        mpfi       3.19    3.40              8.5        110     5500      19   \n",
       "8        mpfi       3.13    3.40              8.3        140     5500      17   \n",
       "9        mpfi       3.13    3.40              7.0        160     5500      16   \n",
       "\n",
       "   highwaympg      price  \n",
       "0          27  13495.000  \n",
       "1          27  16500.000  \n",
       "2          26  16500.000  \n",
       "3          30  13950.000  \n",
       "4          22  17450.000  \n",
       "5          25  15250.000  \n",
       "6          25  17710.000  \n",
       "7          25  18920.000  \n",
       "8          20  23875.000  \n",
       "9          22  17859.167  \n",
       "\n",
       "[10 rows x 26 columns]"
      ]
     },
     "execution_count": 3,
     "metadata": {},
     "output_type": "execute_result"
    }
   ],
   "source": [
    "df = pd.read_csv('car-price-prediction/CarPrice_Assignment.csv')\n",
    "df.head(10)"
   ]
  },
  {
   "cell_type": "code",
   "execution_count": 4,
   "id": "d3f6b149",
   "metadata": {},
   "outputs": [
    {
     "name": "stdout",
     "output_type": "stream",
     "text": [
      "<class 'pandas.core.frame.DataFrame'>\n",
      "RangeIndex: 205 entries, 0 to 204\n",
      "Data columns (total 26 columns):\n",
      " #   Column            Non-Null Count  Dtype  \n",
      "---  ------            --------------  -----  \n",
      " 0   car_ID            205 non-null    int64  \n",
      " 1   symboling         205 non-null    int64  \n",
      " 2   CarName           205 non-null    object \n",
      " 3   fueltype          205 non-null    object \n",
      " 4   aspiration        205 non-null    object \n",
      " 5   doornumber        205 non-null    object \n",
      " 6   carbody           205 non-null    object \n",
      " 7   drivewheel        205 non-null    object \n",
      " 8   enginelocation    205 non-null    object \n",
      " 9   wheelbase         205 non-null    float64\n",
      " 10  carlength         205 non-null    float64\n",
      " 11  carwidth          205 non-null    float64\n",
      " 12  carheight         205 non-null    float64\n",
      " 13  curbweight        205 non-null    int64  \n",
      " 14  enginetype        205 non-null    object \n",
      " 15  cylindernumber    205 non-null    object \n",
      " 16  enginesize        205 non-null    int64  \n",
      " 17  fuelsystem        205 non-null    object \n",
      " 18  boreratio         205 non-null    float64\n",
      " 19  stroke            205 non-null    float64\n",
      " 20  compressionratio  205 non-null    float64\n",
      " 21  horsepower        205 non-null    int64  \n",
      " 22  peakrpm           205 non-null    int64  \n",
      " 23  citympg           205 non-null    int64  \n",
      " 24  highwaympg        205 non-null    int64  \n",
      " 25  price             205 non-null    float64\n",
      "dtypes: float64(8), int64(8), object(10)\n",
      "memory usage: 41.8+ KB\n"
     ]
    }
   ],
   "source": [
    "#display the data types\n",
    "df.info()"
   ]
  },
  {
   "cell_type": "markdown",
   "id": "c9f18071",
   "metadata": {},
   "source": [
    "<li>Categorical, object(10): CarName, fueltype, aspiration, doornumber, carbody, drivewheel, enginelocation, enginetype, cylindernumber, fuelsystem </li>\n",
    "<li>Continous, float64(8): wheelbase, carlength, carwidth, carheight, boreratio, stroke,  compressionratio, price </li>\n",
    "<li>Discraete, int64(8): car_ID, symboling, curbweight, enginesize, horsepower, peakrpm, citympg, highwaympg </li>"
   ]
  },
  {
   "cell_type": "markdown",
   "id": "d9b8dd16",
   "metadata": {},
   "source": [
    "## Data Wrangling"
   ]
  },
  {
   "cell_type": "code",
   "execution_count": 5,
   "id": "f5110ab0",
   "metadata": {},
   "outputs": [
    {
     "data": {
      "text/plain": [
       "(205, 26)"
      ]
     },
     "execution_count": 5,
     "metadata": {},
     "output_type": "execute_result"
    }
   ],
   "source": [
    "df.shape"
   ]
  },
  {
   "cell_type": "code",
   "execution_count": 6,
   "id": "eeb57d9c",
   "metadata": {
    "scrolled": true
   },
   "outputs": [
    {
     "data": {
      "text/html": [
       "<div>\n",
       "<style scoped>\n",
       "    .dataframe tbody tr th:only-of-type {\n",
       "        vertical-align: middle;\n",
       "    }\n",
       "\n",
       "    .dataframe tbody tr th {\n",
       "        vertical-align: top;\n",
       "    }\n",
       "\n",
       "    .dataframe thead th {\n",
       "        text-align: right;\n",
       "    }\n",
       "</style>\n",
       "<table border=\"1\" class=\"dataframe\">\n",
       "  <thead>\n",
       "    <tr style=\"text-align: right;\">\n",
       "      <th></th>\n",
       "      <th>CarName</th>\n",
       "      <th>fueltype</th>\n",
       "      <th>aspiration</th>\n",
       "      <th>doornumber</th>\n",
       "      <th>carbody</th>\n",
       "      <th>drivewheel</th>\n",
       "      <th>enginelocation</th>\n",
       "      <th>enginetype</th>\n",
       "      <th>cylindernumber</th>\n",
       "      <th>fuelsystem</th>\n",
       "    </tr>\n",
       "  </thead>\n",
       "  <tbody>\n",
       "    <tr>\n",
       "      <th>count</th>\n",
       "      <td>205</td>\n",
       "      <td>205</td>\n",
       "      <td>205</td>\n",
       "      <td>205</td>\n",
       "      <td>205</td>\n",
       "      <td>205</td>\n",
       "      <td>205</td>\n",
       "      <td>205</td>\n",
       "      <td>205</td>\n",
       "      <td>205</td>\n",
       "    </tr>\n",
       "    <tr>\n",
       "      <th>unique</th>\n",
       "      <td>147</td>\n",
       "      <td>2</td>\n",
       "      <td>2</td>\n",
       "      <td>2</td>\n",
       "      <td>5</td>\n",
       "      <td>3</td>\n",
       "      <td>2</td>\n",
       "      <td>7</td>\n",
       "      <td>7</td>\n",
       "      <td>8</td>\n",
       "    </tr>\n",
       "    <tr>\n",
       "      <th>top</th>\n",
       "      <td>toyota corona</td>\n",
       "      <td>gas</td>\n",
       "      <td>std</td>\n",
       "      <td>four</td>\n",
       "      <td>sedan</td>\n",
       "      <td>fwd</td>\n",
       "      <td>front</td>\n",
       "      <td>ohc</td>\n",
       "      <td>four</td>\n",
       "      <td>mpfi</td>\n",
       "    </tr>\n",
       "    <tr>\n",
       "      <th>freq</th>\n",
       "      <td>6</td>\n",
       "      <td>185</td>\n",
       "      <td>168</td>\n",
       "      <td>115</td>\n",
       "      <td>96</td>\n",
       "      <td>120</td>\n",
       "      <td>202</td>\n",
       "      <td>148</td>\n",
       "      <td>159</td>\n",
       "      <td>94</td>\n",
       "    </tr>\n",
       "  </tbody>\n",
       "</table>\n",
       "</div>"
      ],
      "text/plain": [
       "              CarName fueltype aspiration doornumber carbody drivewheel  \\\n",
       "count             205      205        205        205     205        205   \n",
       "unique            147        2          2          2       5          3   \n",
       "top     toyota corona      gas        std       four   sedan        fwd   \n",
       "freq                6      185        168        115      96        120   \n",
       "\n",
       "       enginelocation enginetype cylindernumber fuelsystem  \n",
       "count             205        205            205        205  \n",
       "unique              2          7              7          8  \n",
       "top             front        ohc           four       mpfi  \n",
       "freq              202        148            159         94  "
      ]
     },
     "execution_count": 6,
     "metadata": {},
     "output_type": "execute_result"
    }
   ],
   "source": [
    "df.describe(include=['O'])"
   ]
  },
  {
   "cell_type": "code",
   "execution_count": 7,
   "id": "f12dae24",
   "metadata": {},
   "outputs": [
    {
     "data": {
      "text/plain": [
       "car_ID              0\n",
       "symboling           0\n",
       "CarName             0\n",
       "fueltype            0\n",
       "aspiration          0\n",
       "doornumber          0\n",
       "carbody             0\n",
       "drivewheel          0\n",
       "enginelocation      0\n",
       "wheelbase           0\n",
       "carlength           0\n",
       "carwidth            0\n",
       "carheight           0\n",
       "curbweight          0\n",
       "enginetype          0\n",
       "cylindernumber      0\n",
       "enginesize          0\n",
       "fuelsystem          0\n",
       "boreratio           0\n",
       "stroke              0\n",
       "compressionratio    0\n",
       "horsepower          0\n",
       "peakrpm             0\n",
       "citympg             0\n",
       "highwaympg          0\n",
       "price               0\n",
       "dtype: int64"
      ]
     },
     "execution_count": 7,
     "metadata": {},
     "output_type": "execute_result"
    }
   ],
   "source": [
    "#check for missing values\n",
    "#Which features contain blank, null or emply values?\n",
    "df.isnull().sum()"
   ]
  },
  {
   "cell_type": "code",
   "execution_count": 8,
   "id": "2eb21dc2",
   "metadata": {},
   "outputs": [
    {
     "data": {
      "text/plain": [
       "array(['alfa-romero', 'audi', 'bmw', 'chevrolet', 'dodge', 'honda',\n",
       "       'isuzu', 'jaguar', 'maxda', 'mazda', 'buick', 'mercury',\n",
       "       'mitsubishi', 'Nissan', 'nissan', 'peugeot', 'plymouth', 'porsche',\n",
       "       'porcshce', 'renault', 'saab', 'subaru', 'toyota', 'toyouta',\n",
       "       'vokswagen', 'volkswagen', 'vw', 'volvo'], dtype=object)"
      ]
     },
     "execution_count": 8,
     "metadata": {},
     "output_type": "execute_result"
    }
   ],
   "source": [
    "# Unique Car company\n",
    "df['CarName'] = df['CarName'].str.split(' ',1,expand=True).drop(1,axis=1)\n",
    "df['CarName'].unique()"
   ]
  },
  {
   "cell_type": "markdown",
   "id": "d01a9e66",
   "metadata": {},
   "source": [
    "**Typo Error in CarName**\n",
    "<li>maxda = mazda</li>\n",
    "<li>Nissan = nissan</li>\n",
    "<li>porsche = porcshe</li>\n",
    "<li>toyato = toyouta</li>\n",
    "<li>vokswagan = volkswagan = vw</li>"
   ]
  },
  {
   "cell_type": "code",
   "execution_count": 9,
   "id": "e72b075a",
   "metadata": {},
   "outputs": [],
   "source": [
    "#REnaming the typo errors in CarName \n",
    "df['CarName'] = df['CarName'].replace({'maxda':'mazda','nissan':'Nissan','porcshce':'porsche','toyouta':'toyota','vokswagan':'volkswagen','vw':'volkswagen'})"
   ]
  },
  {
   "cell_type": "code",
   "execution_count": 10,
   "id": "c9127a56",
   "metadata": {},
   "outputs": [],
   "source": [
    "# changing the datatype of symboling as it is categorical variable as per dictionary file\n",
    "df['symboling'] = df['symboling'].astype(str)"
   ]
  },
  {
   "cell_type": "code",
   "execution_count": 11,
   "id": "0317711a",
   "metadata": {},
   "outputs": [],
   "source": [
    "# dropped car_ID \n",
    "df = df.drop('car_ID',axis=1)"
   ]
  },
  {
   "cell_type": "code",
   "execution_count": 12,
   "id": "3eb2cd87",
   "metadata": {},
   "outputs": [
    {
     "data": {
      "text/html": [
       "<div>\n",
       "<style scoped>\n",
       "    .dataframe tbody tr th:only-of-type {\n",
       "        vertical-align: middle;\n",
       "    }\n",
       "\n",
       "    .dataframe tbody tr th {\n",
       "        vertical-align: top;\n",
       "    }\n",
       "\n",
       "    .dataframe thead th {\n",
       "        text-align: right;\n",
       "    }\n",
       "</style>\n",
       "<table border=\"1\" class=\"dataframe\">\n",
       "  <thead>\n",
       "    <tr style=\"text-align: right;\">\n",
       "      <th></th>\n",
       "      <th>symboling</th>\n",
       "      <th>CarName</th>\n",
       "      <th>fueltype</th>\n",
       "      <th>aspiration</th>\n",
       "      <th>doornumber</th>\n",
       "      <th>carbody</th>\n",
       "      <th>drivewheel</th>\n",
       "      <th>enginelocation</th>\n",
       "      <th>wheelbase</th>\n",
       "      <th>carlength</th>\n",
       "      <th>...</th>\n",
       "      <th>enginesize</th>\n",
       "      <th>fuelsystem</th>\n",
       "      <th>boreratio</th>\n",
       "      <th>stroke</th>\n",
       "      <th>compressionratio</th>\n",
       "      <th>horsepower</th>\n",
       "      <th>peakrpm</th>\n",
       "      <th>citympg</th>\n",
       "      <th>highwaympg</th>\n",
       "      <th>price</th>\n",
       "    </tr>\n",
       "  </thead>\n",
       "  <tbody>\n",
       "  </tbody>\n",
       "</table>\n",
       "<p>0 rows × 25 columns</p>\n",
       "</div>"
      ],
      "text/plain": [
       "Empty DataFrame\n",
       "Columns: [symboling, CarName, fueltype, aspiration, doornumber, carbody, drivewheel, enginelocation, wheelbase, carlength, carwidth, carheight, curbweight, enginetype, cylindernumber, enginesize, fuelsystem, boreratio, stroke, compressionratio, horsepower, peakrpm, citympg, highwaympg, price]\n",
       "Index: []\n",
       "\n",
       "[0 rows x 25 columns]"
      ]
     },
     "execution_count": 12,
     "metadata": {},
     "output_type": "execute_result"
    }
   ],
   "source": [
    "# checking for duplicates\n",
    "df.loc[df.duplicated()]"
   ]
  },
  {
   "cell_type": "code",
   "execution_count": 13,
   "id": "34a3329d",
   "metadata": {},
   "outputs": [],
   "source": [
    "# Segregation of Numerical and Categorical Variables/Columns\n",
    "cat_col = df.select_dtypes(include=['object']).columns\n",
    "con_col = df.select_dtypes(exclude=['object']).columns\n",
    "df_cat = df[cat_col]\n",
    "df_con = df[con_col]"
   ]
  },
  {
   "cell_type": "code",
   "execution_count": 14,
   "id": "6d6c401c",
   "metadata": {},
   "outputs": [
    {
     "name": "stdout",
     "output_type": "stream",
     "text": [
      "<class 'pandas.core.frame.DataFrame'>\n",
      "RangeIndex: 205 entries, 0 to 204\n",
      "Data columns (total 14 columns):\n",
      " #   Column            Non-Null Count  Dtype  \n",
      "---  ------            --------------  -----  \n",
      " 0   wheelbase         205 non-null    float64\n",
      " 1   carlength         205 non-null    float64\n",
      " 2   carwidth          205 non-null    float64\n",
      " 3   carheight         205 non-null    float64\n",
      " 4   curbweight        205 non-null    int64  \n",
      " 5   enginesize        205 non-null    int64  \n",
      " 6   boreratio         205 non-null    float64\n",
      " 7   stroke            205 non-null    float64\n",
      " 8   compressionratio  205 non-null    float64\n",
      " 9   horsepower        205 non-null    int64  \n",
      " 10  peakrpm           205 non-null    int64  \n",
      " 11  citympg           205 non-null    int64  \n",
      " 12  highwaympg        205 non-null    int64  \n",
      " 13  price             205 non-null    float64\n",
      "dtypes: float64(8), int64(6)\n",
      "memory usage: 22.5 KB\n"
     ]
    }
   ],
   "source": [
    "df_con.info()"
   ]
  },
  {
   "cell_type": "markdown",
   "id": "d1fad63e",
   "metadata": {},
   "source": [
    "## Dummy Variable"
   ]
  },
  {
   "cell_type": "markdown",
   "id": "bcaabfbb",
   "metadata": {},
   "source": [
    "In regression analysis, a dummy variable (also known as indicator variable or just dummy) is one that takes the values 0 or 1 to indicate the absence or presence of some categorical effect that may be expected to shift the outcome."
   ]
  },
  {
   "cell_type": "code",
   "execution_count": 15,
   "id": "ecf7cc59",
   "metadata": {},
   "outputs": [],
   "source": [
    "cat_dum = ['symboling','CarName','fueltype','aspiration','doornumber','carbody','drivewheel','enginelocation','enginetype','cylindernumber','fuelsystem']"
   ]
  },
  {
   "cell_type": "code",
   "execution_count": 16,
   "id": "b855363d",
   "metadata": {},
   "outputs": [
    {
     "data": {
      "text/plain": [
       "(205, 78)"
      ]
     },
     "execution_count": 16,
     "metadata": {},
     "output_type": "execute_result"
    }
   ],
   "source": [
    "dummies = pd.get_dummies(df[cat_dum], dummy_na=True).astype('float64')\n",
    "dummies.shape"
   ]
  },
  {
   "cell_type": "code",
   "execution_count": 17,
   "id": "2190f4a5",
   "metadata": {
    "scrolled": true
   },
   "outputs": [
    {
     "data": {
      "text/plain": [
       "(205, 14)"
      ]
     },
     "execution_count": 17,
     "metadata": {},
     "output_type": "execute_result"
    }
   ],
   "source": [
    "# Drop the original cat variables as dummies are already created\n",
    "df.drop(cat_dum,axis=1,inplace=True)\n",
    "df.shape"
   ]
  },
  {
   "cell_type": "markdown",
   "id": "8de91d3f",
   "metadata": {},
   "source": [
    "## Normal Distribution Test"
   ]
  },
  {
   "cell_type": "code",
   "execution_count": 18,
   "id": "c3432259",
   "metadata": {},
   "outputs": [],
   "source": [
    "from scipy import stats\n",
    "from scipy.stats import normaltest"
   ]
  },
  {
   "cell_type": "code",
   "execution_count": 19,
   "id": "c165cca9",
   "metadata": {
    "scrolled": false
   },
   "outputs": [
    {
     "name": "stdout",
     "output_type": "stream",
     "text": [
      "p-value for ['wheelbase'] = 0.0000\n",
      "  The null hypothesis can be rejected*\n",
      "p-value for ['carlength'] = 0.6443\n",
      "  The null hypothesis can be accepted\n",
      "p-value for ['carwidth'] = 0.0000\n",
      "  The null hypothesis can be rejected*\n",
      "p-value for ['carheight'] = 0.2747\n",
      "  The null hypothesis can be rejected*\n",
      "p-value for ['curbweight'] = 0.0009\n",
      "  The null hypothesis can be rejected*\n",
      "p-value for ['enginesize'] = 0.0000\n",
      "  The null hypothesis can be rejected*\n",
      "p-value for ['boreratio'] = 0.0010\n",
      "  The null hypothesis can be rejected*\n",
      "p-value for ['stroke'] = 0.0000\n",
      "  The null hypothesis can be rejected*\n",
      "p-value for ['compressionratio'] = 0.0000\n",
      "  The null hypothesis can be rejected*\n",
      "p-value for ['horsepower'] = 0.0000\n",
      "  The null hypothesis can be rejected*\n",
      "p-value for ['peakrpm'] = 0.8331\n",
      "  The null hypothesis can be accepted\n",
      "p-value for ['citympg'] = 0.0004\n",
      "  The null hypothesis can be rejected*\n",
      "p-value for ['highwaympg'] = 0.0041\n",
      "  The null hypothesis can be rejected*\n",
      "p-value for ['price'] = 0.0000\n",
      "  The null hypothesis can be rejected*\n"
     ]
    }
   ],
   "source": [
    "for i in df_con.columns.values:\n",
    "    a,b = stats.normaltest(df[[i]])\n",
    "    alpha = 0.5\n",
    "    print('p-value for',[i],'=','%.4f' %(b))\n",
    "    if b < alpha:\n",
    "        print('  The null hypothesis can be rejected*')\n",
    "    else:\n",
    "        print('  The null hypothesis can be accepted')"
   ]
  },
  {
   "cell_type": "markdown",
   "id": "cfff1273",
   "metadata": {},
   "source": [
    "## Transforms Data Into a Normal Distribution"
   ]
  },
  {
   "cell_type": "code",
   "execution_count": 20,
   "id": "9a861f3c",
   "metadata": {},
   "outputs": [],
   "source": [
    "from sklearn.preprocessing import QuantileTransformer"
   ]
  },
  {
   "cell_type": "code",
   "execution_count": 21,
   "id": "185e13c9",
   "metadata": {},
   "outputs": [],
   "source": [
    "#separate into input and output columns\n",
    "y = df_con['price']\n",
    "df_con = df_con.drop(columns=['price'],axis=1)"
   ]
  },
  {
   "cell_type": "code",
   "execution_count": 22,
   "id": "6ec25947",
   "metadata": {},
   "outputs": [
    {
     "data": {
      "image/png": "[encoded data removed]",
      "text/plain": [
       "<Figure size 1000x600 with 13 Axes>"
      ]
     },
     "metadata": {},
     "output_type": "display_data"
    }
   ],
   "source": [
    "#plot histogram\n",
    "plt.figure(figsize=(10, 6))\n",
    "dfg = df_con.values\n",
    "for i in range(dfg.shape[1]):\n",
    "    plt.subplot(4,4,i+1)\n",
    "    plt.hist(dfg[:,i],bins=20)\n",
    "\n",
    "plt.tight_layout()\n",
    "plt.show()"
   ]
  },
  {
   "cell_type": "code",
   "execution_count": 23,
   "id": "12b976d2",
   "metadata": {
    "scrolled": false
   },
   "outputs": [
    {
     "data": {
      "image/png": "[encoded data removed]",
      "text/plain": [
       "<Figure size 1000x600 with 13 Axes>"
      ]
     },
     "metadata": {},
     "output_type": "display_data"
    }
   ],
   "source": [
    "#tranform data to a normal distributio\n",
    "qt = QuantileTransformer( n_quantiles=10, output_distribution=\"normal\", random_state=42)\n",
    "\n",
    "df_con_trans = qt.fit_transform(df_con)\n",
    "\n",
    "# histogram of the transformed data\n",
    "plt.figure(figsize=(10, 6))\n",
    "\n",
    "for i in range(df_con_trans.shape[1]):\n",
    "    plt.subplot(4, 4, i+1)\n",
    "    plt.hist(df_con_trans[:,i], bins=25)\n",
    "    \n",
    "plt.tight_layout()\n",
    "plt.show()"
   ]
  },
  {
   "cell_type": "code",
   "execution_count": 24,
   "id": "047589ce",
   "metadata": {},
   "outputs": [],
   "source": [
    "#convert NumPy Array to Pandas DataFrame\n",
    "con = pd.DataFrame(df_con_trans, columns = ['wheelbase','carlength','carwidth','carheight','curbweight','enginesize','boreratio','stroke','compressionratio','horsepower','peakrpm','citympg','highwaympg'])"
   ]
  },
  {
   "cell_type": "markdown",
   "id": "2510572f",
   "metadata": {},
   "source": [
    "## Remove Outliers "
   ]
  },
  {
   "cell_type": "code",
   "execution_count": 25,
   "id": "802e3b49",
   "metadata": {},
   "outputs": [],
   "source": [
    "from sklearn.ensemble import IsolationForest"
   ]
  },
  {
   "cell_type": "code",
   "execution_count": 26,
   "id": "7bb61136",
   "metadata": {},
   "outputs": [
    {
     "name": "stdout",
     "output_type": "stream",
     "text": [
      "<class 'pandas.core.frame.DataFrame'>\n",
      "RangeIndex: 205 entries, 0 to 204\n",
      "Data columns (total 91 columns):\n",
      " #   Column                 Non-Null Count  Dtype  \n",
      "---  ------                 --------------  -----  \n",
      " 0   wheelbase              205 non-null    float64\n",
      " 1   carlength              205 non-null    float64\n",
      " 2   carwidth               205 non-null    float64\n",
      " 3   carheight              205 non-null    float64\n",
      " 4   curbweight             205 non-null    float64\n",
      " 5   enginesize             205 non-null    float64\n",
      " 6   boreratio              205 non-null    float64\n",
      " 7   stroke                 205 non-null    float64\n",
      " 8   compressionratio       205 non-null    float64\n",
      " 9   horsepower             205 non-null    float64\n",
      " 10  peakrpm                205 non-null    float64\n",
      " 11  citympg                205 non-null    float64\n",
      " 12  highwaympg             205 non-null    float64\n",
      " 13  symboling_-1           205 non-null    float64\n",
      " 14  symboling_-2           205 non-null    float64\n",
      " 15  symboling_0            205 non-null    float64\n",
      " 16  symboling_1            205 non-null    float64\n",
      " 17  symboling_2            205 non-null    float64\n",
      " 18  symboling_3            205 non-null    float64\n",
      " 19  symboling_nan          205 non-null    float64\n",
      " 20  CarName_Nissan         205 non-null    float64\n",
      " 21  CarName_alfa-romero    205 non-null    float64\n",
      " 22  CarName_audi           205 non-null    float64\n",
      " 23  CarName_bmw            205 non-null    float64\n",
      " 24  CarName_buick          205 non-null    float64\n",
      " 25  CarName_chevrolet      205 non-null    float64\n",
      " 26  CarName_dodge          205 non-null    float64\n",
      " 27  CarName_honda          205 non-null    float64\n",
      " 28  CarName_isuzu          205 non-null    float64\n",
      " 29  CarName_jaguar         205 non-null    float64\n",
      " 30  CarName_mazda          205 non-null    float64\n",
      " 31  CarName_mercury        205 non-null    float64\n",
      " 32  CarName_mitsubishi     205 non-null    float64\n",
      " 33  CarName_peugeot        205 non-null    float64\n",
      " 34  CarName_plymouth       205 non-null    float64\n",
      " 35  CarName_porsche        205 non-null    float64\n",
      " 36  CarName_renault        205 non-null    float64\n",
      " 37  CarName_saab           205 non-null    float64\n",
      " 38  CarName_subaru         205 non-null    float64\n",
      " 39  CarName_toyota         205 non-null    float64\n",
      " 40  CarName_vokswagen      205 non-null    float64\n",
      " 41  CarName_volkswagen     205 non-null    float64\n",
      " 42  CarName_volvo          205 non-null    float64\n",
      " 43  CarName_nan            205 non-null    float64\n",
      " 44  fueltype_diesel        205 non-null    float64\n",
      " 45  fueltype_gas           205 non-null    float64\n",
      " 46  fueltype_nan           205 non-null    float64\n",
      " 47  aspiration_std         205 non-null    float64\n",
      " 48  aspiration_turbo       205 non-null    float64\n",
      " 49  aspiration_nan         205 non-null    float64\n",
      " 50  doornumber_four        205 non-null    float64\n",
      " 51  doornumber_two         205 non-null    float64\n",
      " 52  doornumber_nan         205 non-null    float64\n",
      " 53  carbody_convertible    205 non-null    float64\n",
      " 54  carbody_hardtop        205 non-null    float64\n",
      " 55  carbody_hatchback      205 non-null    float64\n",
      " 56  carbody_sedan          205 non-null    float64\n",
      " 57  carbody_wagon          205 non-null    float64\n",
      " 58  carbody_nan            205 non-null    float64\n",
      " 59  drivewheel_4wd         205 non-null    float64\n",
      " 60  drivewheel_fwd         205 non-null    float64\n",
      " 61  drivewheel_rwd         205 non-null    float64\n",
      " 62  drivewheel_nan         205 non-null    float64\n",
      " 63  enginelocation_front   205 non-null    float64\n",
      " 64  enginelocation_rear    205 non-null    float64\n",
      " 65  enginelocation_nan     205 non-null    float64\n",
      " 66  enginetype_dohc        205 non-null    float64\n",
      " 67  enginetype_dohcv       205 non-null    float64\n",
      " 68  enginetype_l           205 non-null    float64\n",
      " 69  enginetype_ohc         205 non-null    float64\n",
      " 70  enginetype_ohcf        205 non-null    float64\n",
      " 71  enginetype_ohcv        205 non-null    float64\n",
      " 72  enginetype_rotor       205 non-null    float64\n",
      " 73  enginetype_nan         205 non-null    float64\n",
      " 74  cylindernumber_eight   205 non-null    float64\n",
      " 75  cylindernumber_five    205 non-null    float64\n",
      " 76  cylindernumber_four    205 non-null    float64\n",
      " 77  cylindernumber_six     205 non-null    float64\n",
      " 78  cylindernumber_three   205 non-null    float64\n",
      " 79  cylindernumber_twelve  205 non-null    float64\n",
      " 80  cylindernumber_two     205 non-null    float64\n",
      " 81  cylindernumber_nan     205 non-null    float64\n",
      " 82  fuelsystem_1bbl        205 non-null    float64\n",
      " 83  fuelsystem_2bbl        205 non-null    float64\n",
      " 84  fuelsystem_4bbl        205 non-null    float64\n",
      " 85  fuelsystem_idi         205 non-null    float64\n",
      " 86  fuelsystem_mfi         205 non-null    float64\n",
      " 87  fuelsystem_mpfi        205 non-null    float64\n",
      " 88  fuelsystem_spdi        205 non-null    float64\n",
      " 89  fuelsystem_spfi        205 non-null    float64\n",
      " 90  fuelsystem_nan         205 non-null    float64\n",
      "dtypes: float64(91)\n",
      "memory usage: 145.9 KB\n"
     ]
    }
   ],
   "source": [
    "#create a new dataset with transfrom and dummy variables\n",
    "X_multi = pd.concat([con, dummies], axis=1)\n",
    "X_multi.info()"
   ]
  },
  {
   "cell_type": "code",
   "execution_count": 27,
   "id": "7e5746dd",
   "metadata": {},
   "outputs": [
    {
     "name": "stdout",
     "output_type": "stream",
     "text": [
      "X_multi shape is:  (205, 80)\n"
     ]
    }
   ],
   "source": [
    "X_multi.drop(['symboling_nan', \n",
    "        'CarName_nan', \n",
    "        'fueltype_nan',\n",
    "        'aspiration_nan',\n",
    "        'doornumber_nan',\n",
    "        'carbody_nan',\n",
    "        'drivewheel_nan',\n",
    "        'enginelocation_nan',\n",
    "        'enginetype_nan',\n",
    "        'cylindernumber_nan',\n",
    "        'fuelsystem_nan'], axis=1 ,inplace=True)\n",
    "              \n",
    "print('X_multi shape is: ' ,X_multi.shape)"
   ]
  },
  {
   "cell_type": "code",
   "execution_count": 28,
   "id": "cbcbc897",
   "metadata": {},
   "outputs": [
    {
     "name": "stdout",
     "output_type": "stream",
     "text": [
      "dataset before outlier cleaning (205, 80) (205,)\n",
      "dataset after outlier cleaning: (184, 80) (184,)\n"
     ]
    }
   ],
   "source": [
    "#a cleaning of the outliers with a IsolationForest method.\n",
    "print('dataset before outlier cleaning', X_multi.shape, y.shape)\n",
    "\n",
    "#call and fit the Isolation Forest detector\n",
    "iforest = IsolationForest(contamination=0.1).fit(X_multi.values)\n",
    "yhat = iforest.predict(X_multi.values)\n",
    "#select all rows that are not outliers\n",
    "mask = yhat != -1\n",
    "X_multi = X_multi.loc[mask, :]\n",
    "y = y.loc[mask]\n",
    "\n",
    "print('dataset after outlier cleaning:' ,X_multi.shape, y.shape)"
   ]
  },
  {
   "cell_type": "code",
   "execution_count": 29,
   "id": "b8357b3f",
   "metadata": {},
   "outputs": [
    {
     "name": "stdout",
     "output_type": "stream",
     "text": [
      "wheelbase          0\n",
      "carlength          0\n",
      "carwidth           0\n",
      "carheight          0\n",
      "curbweight         0\n",
      "                  ..\n",
      "fuelsystem_idi     0\n",
      "fuelsystem_mfi     0\n",
      "fuelsystem_mpfi    0\n",
      "fuelsystem_spdi    0\n",
      "fuelsystem_spfi    0\n",
      "Length: 80, dtype: int64\n"
     ]
    }
   ],
   "source": [
    "#clean missing after transform data\n",
    "#Total missing values for each feature\n",
    "print(X_multi.isnull().sum())"
   ]
  },
  {
   "cell_type": "code",
   "execution_count": 30,
   "id": "0dd6baf0",
   "metadata": {},
   "outputs": [
    {
     "name": "stdout",
     "output_type": "stream",
     "text": [
      "False\n"
     ]
    }
   ],
   "source": [
    "# Any missing values?\n",
    "print(X_multi.isnull().values.any())"
   ]
  },
  {
   "cell_type": "code",
   "execution_count": 31,
   "id": "3586d833",
   "metadata": {},
   "outputs": [
    {
     "data": {
      "text/plain": [
       "<AxesSubplot: >"
      ]
     },
     "execution_count": 31,
     "metadata": {},
     "output_type": "execute_result"
    },
    {
     "data": {
      "image/png": "[encoded data removed]",
      "text/plain": [
       "<Figure size 1200x600 with 2 Axes>"
      ]
     },
     "metadata": {},
     "output_type": "display_data"
    }
   ],
   "source": [
    "#find correlated columns\n",
    "plt.figure(figsize=(12,6))\n",
    "sns.heatmap(con.corr(), annot=True, fmt='.2f', linewidths=2)"
   ]
  },
  {
   "cell_type": "markdown",
   "id": "4664ed44",
   "metadata": {},
   "source": [
    "## Multiple Linear Regression"
   ]
  },
  {
   "cell_type": "markdown",
   "id": "94215cee",
   "metadata": {},
   "source": [
    "<div align=\"center\">Y: Response Variable</div>\n",
    "<div align=\"center\">X<sub>1</sub>: Predictor Variable 1</div>\n",
    "<div align=\"center\">X<sub>2</sub>: Predictor Variable 2</div>\n",
    "<div align=\"center\">: </div>\n",
    "<div align=\"center\">X<sub>i</sub>: Predictor Variable i</div>"
   ]
  },
  {
   "cell_type": "markdown",
   "id": "8815ae0a",
   "metadata": {},
   "source": [
    "<div align=\"center\">a: intercept</div>\n",
    "<div align=\"center\">b<sub>1</sub>: coefficients of Variable 1</div>\n",
    "<div align=\"center\">b<sub>2</sub>: coefficients of Variable 2</div>\n",
    "<div align=\"center\">:</div>\n",
    "<div align=\"center\">b<sub>i</sub>: coefficients of Variable i</div>"
   ]
  },
  {
   "cell_type": "markdown",
   "id": "12892bb9",
   "metadata": {},
   "source": [
    "The equation is given by:"
   ]
  },
  {
   "cell_type": "markdown",
   "id": "839d5c0a",
   "metadata": {},
   "source": [
    "<div align=\"center\">Yhat = a + b<sub>1</sub> X<sub>1</sub> + b<sub>2</sub> X<sub>2</sub> + ... + b<sub>i</sub> X<sub>i</sub></div>"
   ]
  },
  {
   "cell_type": "code",
   "execution_count": 32,
   "id": "19788518",
   "metadata": {},
   "outputs": [],
   "source": [
    "import statsmodels.api as sm"
   ]
  },
  {
   "cell_type": "code",
   "execution_count": 33,
   "id": "f6d95c77",
   "metadata": {
    "scrolled": false
   },
   "outputs": [
    {
     "name": "stdout",
     "output_type": "stream",
     "text": [
      "                            OLS Regression Results                            \n",
      "==============================================================================\n",
      "Dep. Variable:                  price   R-squared:                       0.943\n",
      "Model:                            OLS   Adj. R-squared:                  0.915\n",
      "Method:                 Least Squares   F-statistic:                     33.97\n",
      "Date:                Wed, 07 Jun 2023   Prob (F-statistic):           2.09e-54\n",
      "Time:                        23:19:19   Log-Likelihood:                -1612.2\n",
      "No. Observations:                 184   AIC:                             3346.\n",
      "Df Residuals:                     123   BIC:                             3542.\n",
      "Df Model:                          60                                         \n",
      "Covariance Type:            nonrobust                                         \n",
      "=========================================================================================\n",
      "                            coef    std err          t      P>|t|      [0.025      0.975]\n",
      "-----------------------------------------------------------------------------------------\n",
      "wheelbase               111.2152    417.962      0.266      0.791    -716.115     938.545\n",
      "carlength             -1014.8084    919.481     -1.104      0.272   -2834.865     805.248\n",
      "carwidth               1848.4027    570.528      3.240      0.002     719.077    2977.729\n",
      "carheight              -328.9024    295.557     -1.113      0.268    -913.939     256.135\n",
      "curbweight             4615.0498   1089.606      4.236      0.000    2458.242    6771.857\n",
      "enginesize            -1329.2913   1277.855     -1.040      0.300   -3858.728    1200.145\n",
      "boreratio               351.4775    453.934      0.774      0.440    -547.058    1250.013\n",
      "stroke                  -27.9615    433.513     -0.064      0.949    -886.073     830.150\n",
      "compressionratio       -465.8336    293.088     -1.589      0.115   -1045.983     114.316\n",
      "horsepower               63.7424   1202.985      0.053      0.958   -2317.493    2444.978\n",
      "peakrpm                 987.1043    364.736      2.706      0.008     265.132    1709.077\n",
      "citympg                -374.2104   1103.313     -0.339      0.735   -2558.150    1809.729\n",
      "highwaympg             1031.9490   1010.717      1.021      0.309    -968.703    3032.601\n",
      "symboling_-1           2003.4963    755.610      2.651      0.009     507.814    3499.179\n",
      "symboling_-2            334.1114   1447.940      0.231      0.818   -2531.997    3200.220\n",
      "symboling_0             761.3923    610.349      1.247      0.215    -446.756    1969.541\n",
      "symboling_1             392.5618    577.774      0.679      0.498    -751.106    1536.230\n",
      "symboling_2             391.2330    656.693      0.596      0.552    -908.650    1691.116\n",
      "symboling_3             237.3290    822.913      0.288      0.774   -1391.577    1866.235\n",
      "CarName_Nissan          414.6164    841.130      0.493      0.623   -1250.349    2079.581\n",
      "CarName_alfa-romero    3445.1651   1788.092      1.927      0.056     -94.253    6984.583\n",
      "CarName_audi           2915.9397   1688.744      1.727      0.087    -426.825    6258.704\n",
      "CarName_bmw            6332.5009   1579.748      4.009      0.000    3205.487    9459.515\n",
      "CarName_buick          3005.7443   2795.469      1.075      0.284   -2527.715    8539.203\n",
      "CarName_chevrolet      -864.1791   1561.066     -0.554      0.581   -3954.214    2225.856\n",
      "CarName_dodge         -1992.2479    972.971     -2.048      0.043   -3918.184     -66.311\n",
      "CarName_honda          -587.1185   1563.116     -0.376      0.708   -3681.211    2506.974\n",
      "CarName_isuzu           325.8547   1327.785      0.245      0.807   -2302.415    2954.124\n",
      "CarName_jaguar        -4315.5653   4991.044     -0.865      0.389   -1.42e+04    5563.900\n",
      "CarName_mazda          -559.3560    810.151     -0.690      0.491   -2163.000    1044.288\n",
      "CarName_mercury       -1463.9443   2294.670     -0.638      0.525   -6006.104    3078.215\n",
      "CarName_mitsubishi    -3161.2875    993.561     -3.182      0.002   -5127.980   -1194.595\n",
      "CarName_peugeot         738.7611    836.959      0.883      0.379    -917.947    2395.469\n",
      "CarName_plymouth      -2168.4661   1029.442     -2.106      0.037   -4206.183    -130.749\n",
      "CarName_porsche        4073.4007   3141.264      1.297      0.197   -2144.540    1.03e+04\n",
      "CarName_renault       -2271.6850   1799.234     -1.263      0.209   -5833.158    1289.788\n",
      "CarName_saab           3259.9852   1517.548      2.148      0.034     256.092    6263.879\n",
      "CarName_subaru         1410.7728    658.743      2.142      0.034     106.832    2714.714\n",
      "CarName_toyota        -1512.8890    619.599     -2.442      0.016   -2739.346    -286.432\n",
      "CarName_vokswagen     -2152.3074   2194.373     -0.981      0.329   -6495.934    2191.320\n",
      "CarName_volkswagen    -1079.7269    942.099     -1.146      0.254   -2944.554     785.101\n",
      "CarName_volvo           326.1558   1613.662      0.202      0.840   -2867.989    3520.300\n",
      "fueltype_diesel        2644.8229    688.238      3.843      0.000    1282.498    4007.148\n",
      "fueltype_gas           1475.3009    643.389      2.293      0.024     201.751    2748.851\n",
      "aspiration_std         1044.0239    493.757      2.114      0.036      66.663    2021.385\n",
      "aspiration_turbo       3076.0999    616.967      4.986      0.000    1854.853    4297.347\n",
      "doornumber_four        1952.2023    358.220      5.450      0.000    1243.128    2661.276\n",
      "doornumber_two         2167.9215    336.865      6.436      0.000    1501.118    2834.726\n",
      "carbody_convertible    3922.3492   1120.095      3.502      0.001    1705.190    6139.509\n",
      "carbody_hardtop         195.6844   1001.118      0.195      0.845   -1785.967    2177.336\n",
      "carbody_hatchback       173.2878    442.486      0.392      0.696    -702.585    1049.161\n",
      "carbody_sedan           420.6383    475.206      0.885      0.378    -520.003    1361.280\n",
      "carbody_wagon          -591.8359    736.427     -0.804      0.423   -2049.548     865.876\n",
      "drivewheel_4wd          804.1419    796.332      1.010      0.315    -772.148    2380.432\n",
      "drivewheel_fwd         1191.7982    442.607      2.693      0.008     315.684    2067.912\n",
      "drivewheel_rwd         2124.1837    637.957      3.330      0.001     861.387    3386.980\n",
      "enginelocation_front   4120.1238    405.026     10.173      0.000    3318.401    4921.847\n",
      "enginelocation_rear   -7.048e-13   3.36e-13     -2.097      0.038   -1.37e-12   -3.95e-14\n",
      "enginetype_dohc         627.8071    986.043      0.637      0.526   -1324.004    2579.618\n",
      "enginetype_dohcv      -3.579e-13   3.15e-13     -1.138      0.258   -9.81e-13    2.65e-13\n",
      "enginetype_l            738.7611    836.959      0.883      0.379    -917.947    2395.469\n",
      "enginetype_ohc         4418.6864    961.998      4.593      0.000    2514.471    6322.902\n",
      "enginetype_ohcf        1410.7728    658.743      2.142      0.034     106.832    2714.714\n",
      "enginetype_ohcv       -2674.2601   1103.396     -2.424      0.017   -4858.364    -490.156\n",
      "enginetype_rotor       -401.6434   1466.822     -0.274      0.785   -3305.129    2501.842\n",
      "cylindernumber_eight   1.207e+04   2716.769      4.442      0.000    6689.107    1.74e+04\n",
      "cylindernumber_five   -4432.9402   1303.507     -3.401      0.001   -7013.152   -1852.729\n",
      "cylindernumber_four   -5294.5895   1256.335     -4.214      0.000   -7781.428   -2807.751\n",
      "cylindernumber_six     2182.5124   1249.169      1.747      0.083    -290.141    4655.165\n",
      "cylindernumber_three           0          0        nan        nan           0           0\n",
      "cylindernumber_twelve          0          0        nan        nan           0           0\n",
      "cylindernumber_two     -401.6434   1466.822     -0.274      0.785   -3305.129    2501.842\n",
      "fuelsystem_1bbl         636.9557   1479.608      0.430      0.668   -2291.838    3565.749\n",
      "fuelsystem_2bbl        2195.0329    713.051      3.078      0.003     783.592    3606.473\n",
      "fuelsystem_4bbl       -1962.9725   2057.746     -0.954      0.342   -6036.155    2110.210\n",
      "fuelsystem_idi         2644.8229    688.238      3.843      0.000    1282.498    4007.148\n",
      "fuelsystem_mfi                 0          0        nan        nan           0           0\n",
      "fuelsystem_mpfi        1485.0341    783.519      1.895      0.060     -65.893    3035.961\n",
      "fuelsystem_spdi         365.0716   1253.790      0.291      0.771   -2116.729    2846.872\n",
      "fuelsystem_spfi       -1243.8208   2132.268     -0.583      0.561   -5464.515    2976.873\n",
      "==============================================================================\n",
      "Omnibus:                       68.427   Durbin-Watson:                   1.382\n",
      "Prob(Omnibus):                  0.000   Jarque-Bera (JB):              374.909\n",
      "Skew:                           1.275   Prob(JB):                     3.89e-82\n",
      "Kurtosis:                       9.512   Cond. No.                     1.43e+16\n",
      "==============================================================================\n",
      "\n",
      "Notes:\n",
      "[1] Standard Errors assume that the covariance matrix of the errors is correctly specified.\n",
      "[2] The smallest eigenvalue is 6.53e-30. This might indicate that there are\n",
      "strong multicollinearity problems or that the design matrix is singular.\n"
     ]
    }
   ],
   "source": [
    "model = sm.OLS(y,X_multi).fit()\n",
    "summary = model.summary()\n",
    "print(summary)\n",
    "#the null hypothesis is beta(i) = 0"
   ]
  },
  {
   "cell_type": "markdown",
   "id": "e75ae39a",
   "metadata": {},
   "source": [
    "## Forward selection"
   ]
  },
  {
   "cell_type": "code",
   "execution_count": 34,
   "id": "0be1cc1a",
   "metadata": {},
   "outputs": [],
   "source": [
    "def forward_stepwise_selection(X, y, \n",
    "                           initial_list=[], \n",
    "                           threshold_in=0.01, \n",
    "                           threshold_out =0.05, \n",
    "                           verbose=True):\n",
    "        \"\"\" Perform a forward-backward feature selection \n",
    "        based on p-value from statsmodels.api.OLS\n",
    "        Arguments:\n",
    "            X - pandas.DataFrame with candidate features\n",
    "            y - list-like with the target\n",
    "            initial_list - list of features to start with (column names of X)\n",
    "            threshold_in - include a feature if its p-value < threshold_in\n",
    "            threshold_out - exclude a feature if its p-value > threshold_out\n",
    "            verbose - whether to print the sequence of inclusions and exclusions\n",
    "        Returns: list of selected features \n",
    "        Always set threshold_in < threshold_out to avoid infinite looping.\n",
    "        See https://en.wikipedia.org/wiki/Stepwise_regression for the details\n",
    "        \"\"\"\n",
    "        initial_list = []\n",
    "        included = list(initial_list)\n",
    "        while True:\n",
    "            changed=False\n",
    "            # forward step\n",
    "            excluded = list(set(X.columns)-set(included))\n",
    "            new_pval = pd.Series([],dtype=pd.StringDtype())\n",
    "            \n",
    "            for new_column in excluded:\n",
    "                model = sm.OLS(y, sm.add_constant(pd.DataFrame(X[included+[new_column]]))).fit()\n",
    "                new_pval[new_column] = model.pvalues[new_column]\n",
    "            best_pval = new_pval.min()\n",
    "            \n",
    "            if best_pval < threshold_in:\n",
    "                best_feature = new_pval.idxmin()\n",
    "                included.append(best_feature)\n",
    "                changed=True\n",
    "                if verbose:\n",
    "                    print('Add  {:30} with p-value {:.6}'.format(best_feature, best_pval))\n",
    "                    \n",
    "            if not changed:\n",
    "                break\n",
    "                \n",
    "        return included     \n",
    "    \n",
    "#[1]: http://planspace.org/20150423-forward_selection_with_statsmodels/\n",
    "#[2]: http://rasbt.github.io/mlxtend/user_guide/feature_selection/SequentialFeatureSelector/"
   ]
  },
  {
   "cell_type": "code",
   "execution_count": 35,
   "id": "96eb2645",
   "metadata": {},
   "outputs": [
    {
     "name": "stdout",
     "output_type": "stream",
     "text": [
      "Add  enginelocation_front           with p-value 2.93477e-61\n",
      "Add  curbweight                     with p-value 2.10918e-46\n",
      "Add  CarName_bmw                    with p-value 7.31999e-18\n",
      "Add  CarName_buick                  with p-value 7.85265e-13\n",
      "Add  carwidth                       with p-value 9.3471e-07\n",
      "Add  wheelbase                      with p-value 0.000315378\n",
      "Add  peakrpm                        with p-value 0.00172502\n",
      "Add  carbody_convertible            with p-value 0.00461782\n",
      "Add  cylindernumber_four            with p-value 0.00629866\n",
      "Add  CarName_porsche                with p-value 0.00620761\n",
      "Add  CarName_volvo                  with p-value 0.00282108\n",
      "Add  aspiration_std                 with p-value 0.00738859\n",
      "Add  aspiration_turbo               with p-value 1.43502e-30\n",
      "Add  cylindernumber_eight           with p-value 0.00663811\n",
      "Add  CarName_mitsubishi             with p-value 0.00537175\n",
      "Add  carbody_wagon                  with p-value 0.0058377\n",
      "resulting features:\n",
      "['enginelocation_front', 'curbweight', 'CarName_bmw', 'CarName_buick', 'carwidth', 'wheelbase', 'peakrpm', 'carbody_convertible', 'cylindernumber_four', 'CarName_porsche', 'CarName_volvo', 'aspiration_std', 'aspiration_turbo', 'cylindernumber_eight', 'CarName_mitsubishi', 'carbody_wagon']\n"
     ]
    }
   ],
   "source": [
    "result = forward_stepwise_selection(X_multi, y)\n",
    "\n",
    "print('resulting features:')\n",
    "print(result)"
   ]
  },
  {
   "cell_type": "markdown",
   "id": "7c106338",
   "metadata": {},
   "source": [
    "## Final Estimated Linear Model"
   ]
  },
  {
   "cell_type": "code",
   "execution_count": 36,
   "id": "0fbc2508",
   "metadata": {},
   "outputs": [],
   "source": [
    "X_multi_selected = X_multi[['enginelocation_front', 'curbweight', 'CarName_bmw', 'CarName_buick', 'carwidth', 'wheelbase', 'peakrpm', 'carbody_convertible', 'cylindernumber_four', 'CarName_porsche', 'CarName_volvo', 'aspiration_std', 'aspiration_turbo', 'cylindernumber_eight', 'CarName_mitsubishi', 'carbody_wagon']]"
   ]
  },
  {
   "cell_type": "markdown",
   "id": "b449c8a3",
   "metadata": {},
   "source": [
    "### Checking VIF"
   ]
  },
  {
   "cell_type": "markdown",
   "id": "fd55191f",
   "metadata": {},
   "source": [
    "A variance inflation factor (VIF) is a measure of the amount of multicollinearity in regression analysis."
   ]
  },
  {
   "cell_type": "markdown",
   "id": "8e1cfee8",
   "metadata": {},
   "source": [
    "In general terms,\n",
    "\n",
    "<div>VIF equal to 1 = variables are not correlated </div>\n",
    "<div>VIF between 1 and 5 = variables are moderately correlated </div>\n",
    "<div>VIF greater than 5 = variables are highly correlated </div>"
   ]
  },
  {
   "cell_type": "code",
   "execution_count": 37,
   "id": "d6fd56ce",
   "metadata": {},
   "outputs": [],
   "source": [
    "from statsmodels.stats.outliers_influence import variance_inflation_factor"
   ]
  },
  {
   "cell_type": "code",
   "execution_count": 38,
   "id": "4bce5674",
   "metadata": {
    "scrolled": false
   },
   "outputs": [
    {
     "name": "stdout",
     "output_type": "stream",
     "text": [
      "                Features       VIF\n",
      "11        aspiration_std       inf\n",
      "12      aspiration_turbo       inf\n",
      "4               carwidth  3.811710\n",
      "1             curbweight  3.479248\n",
      "3          CarName_buick  3.291017\n",
      "13  cylindernumber_eight  3.211866\n",
      "5              wheelbase  2.837290\n",
      "8    cylindernumber_four  2.069426\n",
      "10         CarName_volvo  1.250978\n",
      "7    carbody_convertible  1.227740\n",
      "2            CarName_bmw  1.217044\n",
      "14    CarName_mitsubishi  1.144848\n",
      "6                peakrpm  1.120422\n",
      "15         carbody_wagon  1.113249\n",
      "9        CarName_porsche  1.089123\n",
      "0   enginelocation_front  0.000000\n"
     ]
    }
   ],
   "source": [
    "vif = pd.DataFrame()\n",
    "vif['Features'] = X_multi_selected.columns\n",
    "\n",
    "np.seterr(divide='ignore', invalid='ignore')\n",
    "vif['VIF'] = [variance_inflation_factor(X_multi_selected.values, i) \n",
    "              for i in range(X_multi_selected.shape[1])]\n",
    "\n",
    "vif = vif.sort_values(by = \"VIF\", ascending = False)\n",
    "print(vif)"
   ]
  },
  {
   "cell_type": "code",
   "execution_count": 39,
   "id": "aeebee03",
   "metadata": {},
   "outputs": [
    {
     "name": "stdout",
     "output_type": "stream",
     "text": [
      "                            OLS Regression Results                            \n",
      "==============================================================================\n",
      "Dep. Variable:                  price   R-squared:                       0.913\n",
      "Model:                            OLS   Adj. R-squared:                  0.906\n",
      "Method:                 Least Squares   F-statistic:                     127.3\n",
      "Date:                Wed, 07 Jun 2023   Prob (F-statistic):           6.47e-82\n",
      "Time:                        23:19:46   Log-Likelihood:                -1650.8\n",
      "No. Observations:                 184   AIC:                             3332.\n",
      "Df Residuals:                     169   BIC:                             3380.\n",
      "Df Model:                          14                                         \n",
      "Covariance Type:            nonrobust                                         \n",
      "========================================================================================\n",
      "                           coef    std err          t      P>|t|      [0.025      0.975]\n",
      "----------------------------------------------------------------------------------------\n",
      "enginelocation_front  9567.6686    364.130     26.275      0.000    8848.839    1.03e+04\n",
      "curbweight            3399.7249    284.943     11.931      0.000    2837.219    3962.231\n",
      "CarName_bmw           1.076e+04    793.250     13.559      0.000    9189.675    1.23e+04\n",
      "CarName_buick         4104.4597   2100.504      1.954      0.052     -42.146    8251.066\n",
      "carwidth              1403.9778    333.253      4.213      0.000     746.102    2061.853\n",
      "wheelbase             -291.0607    253.492     -1.148      0.253    -791.479     209.358\n",
      "peakrpm                416.6819    155.168      2.685      0.008     110.364     723.000\n",
      "carbody_convertible   3325.3932    999.310      3.328      0.001    1352.656    5298.131\n",
      "cylindernumber_four  -2338.7469    556.527     -4.202      0.000   -3437.388   -1240.106\n",
      "CarName_porsche       7168.9405   2081.475      3.444      0.001    3059.900    1.13e+04\n",
      "CarName_volvo         2032.8702    723.450      2.810      0.006     604.707    3461.034\n",
      "aspiration_std        3878.6379    219.256     17.690      0.000    3445.804    4311.471\n",
      "aspiration_turbo      5689.0307    368.623     15.433      0.000    4961.332    6416.729\n",
      "cylindernumber_eight  7604.5305   2534.466      3.000      0.003    2601.241    1.26e+04\n",
      "CarName_mitsubishi   -1866.9731    612.297     -3.049      0.003   -3075.710    -658.236\n",
      "carbody_wagon        -1331.4966    476.854     -2.792      0.006   -2272.855    -390.138\n",
      "==============================================================================\n",
      "Omnibus:                       73.429   Durbin-Watson:                   1.083\n",
      "Prob(Omnibus):                  0.000   Jarque-Bera (JB):              394.614\n",
      "Skew:                           1.398   Prob(JB):                     2.04e-86\n",
      "Kurtosis:                       9.607   Cond. No.                     2.53e+15\n",
      "==============================================================================\n",
      "\n",
      "Notes:\n",
      "[1] Standard Errors assume that the covariance matrix of the errors is correctly specified.\n",
      "[2] The smallest eigenvalue is 8.18e-29. This might indicate that there are\n",
      "strong multicollinearity problems or that the design matrix is singular.\n"
     ]
    }
   ],
   "source": [
    "model = sm.OLS(y,X_multi_selected).fit()\n",
    "summary = model.summary()\n",
    "print(summary)\n",
    "#the null hypothesis is beta(i) = 0"
   ]
  },
  {
   "cell_type": "markdown",
   "id": "40cf5da8",
   "metadata": {},
   "source": [
    "<div>Multiple R-squared: 0.913, Adjusted R-squared: 0.906</div>\n",
    "<div>This means that 91.30% of the variation in the response variable can be explained by the 14 predictor variables in the model.</div>"
   ]
  },
  {
   "cell_type": "markdown",
   "id": "3627ad63",
   "metadata": {},
   "source": [
    "Using this output, we can write the equation for the fitted regression model:"
   ]
  },
  {
   "cell_type": "markdown",
   "id": "f7861acb",
   "metadata": {},
   "source": [
    "**Yhat** = 14,351.50 +9,567.67(**Enginelocation_front**) +3,399.73(**Curbweight**) +1,403.98(**Carwidth**) -291.06(**Wheelbase**) +416.68(**Peakrpm**) +3,325.39(**Carbody_convertible**)   +3,878.64(**Aspiration_std**)  +5,689.03(**Aspiration_turbo**) +7,604.53(**Cylindernumber_eight**) -1,866.97(**CarName_mitsubishi**) +10,760(**CarName_bmw**) +4,104.46(**CarName_buick**) -1331.50(**Carbody_wagon**) +7,168.94(**CarName_porsche**) +2,032.87(**CarName_volvo**)    "
   ]
  },
  {
   "cell_type": "markdown",
   "id": "b6daf3ef",
   "metadata": {},
   "source": [
    "## Distribution Plot"
   ]
  },
  {
   "cell_type": "markdown",
   "id": "e79af6b8",
   "metadata": {},
   "source": [
    "One way to look at the fit of the model is by looking at the distribution plot. We can look at the distribution of the fitted values that result from the model and compare it to the distribution of the actual values."
   ]
  },
  {
   "cell_type": "code",
   "execution_count": 40,
   "id": "909f0e33",
   "metadata": {},
   "outputs": [],
   "source": [
    "#Let's load the modules for linear regression:\n",
    "from sklearn.linear_model import LinearRegression"
   ]
  },
  {
   "cell_type": "code",
   "execution_count": 41,
   "id": "3951bc8e",
   "metadata": {},
   "outputs": [
    {
     "data": {
      "text/html": [
       "<style>#sk-container-id-1 {color: black;background-color: white;}#sk-container-id-1 pre{padding: 0;}#sk-container-id-1 div.sk-toggleable {background-color: white;}#sk-container-id-1 label.sk-toggleable__label {cursor: pointer;display: block;width: 100%;margin-bottom: 0;padding: 0.3em;box-sizing: border-box;text-align: center;}#sk-container-id-1 label.sk-toggleable__label-arrow:before {content: \"▸\";float: left;margin-right: 0.25em;color: #696969;}#sk-container-id-1 label.sk-toggleable__label-arrow:hover:before {color: black;}#sk-container-id-1 div.sk-estimator:hover label.sk-toggleable__label-arrow:before {color: black;}#sk-container-id-1 div.sk-toggleable__content {max-height: 0;max-width: 0;overflow: hidden;text-align: left;background-color: #f0f8ff;}#sk-container-id-1 div.sk-toggleable__content pre {margin: 0.2em;color: black;border-radius: 0.25em;background-color: #f0f8ff;}#sk-container-id-1 input.sk-toggleable__control:checked~div.sk-toggleable__content {max-height: 200px;max-width: 100%;overflow: auto;}#sk-container-id-1 input.sk-toggleable__control:checked~label.sk-toggleable__label-arrow:before {content: \"▾\";}#sk-container-id-1 div.sk-estimator input.sk-toggleable__control:checked~label.sk-toggleable__label {background-color: #d4ebff;}#sk-container-id-1 div.sk-label input.sk-toggleable__control:checked~label.sk-toggleable__label {background-color: #d4ebff;}#sk-container-id-1 input.sk-hidden--visually {border: 0;clip: rect(1px 1px 1px 1px);clip: rect(1px, 1px, 1px, 1px);height: 1px;margin: -1px;overflow: hidden;padding: 0;position: absolute;width: 1px;}#sk-container-id-1 div.sk-estimator {font-family: monospace;background-color: #f0f8ff;border: 1px dotted black;border-radius: 0.25em;box-sizing: border-box;margin-bottom: 0.5em;}#sk-container-id-1 div.sk-estimator:hover {background-color: #d4ebff;}#sk-container-id-1 div.sk-parallel-item::after {content: \"\";width: 100%;border-bottom: 1px solid gray;flex-grow: 1;}#sk-container-id-1 div.sk-label:hover label.sk-toggleable__label {background-color: #d4ebff;}#sk-container-id-1 div.sk-serial::before {content: \"\";position: absolute;border-left: 1px solid gray;box-sizing: border-box;top: 0;bottom: 0;left: 50%;z-index: 0;}#sk-container-id-1 div.sk-serial {display: flex;flex-direction: column;align-items: center;background-color: white;padding-right: 0.2em;padding-left: 0.2em;position: relative;}#sk-container-id-1 div.sk-item {position: relative;z-index: 1;}#sk-container-id-1 div.sk-parallel {display: flex;align-items: stretch;justify-content: center;background-color: white;position: relative;}#sk-container-id-1 div.sk-item::before, #sk-container-id-1 div.sk-parallel-item::before {content: \"\";position: absolute;border-left: 1px solid gray;box-sizing: border-box;top: 0;bottom: 0;left: 50%;z-index: -1;}#sk-container-id-1 div.sk-parallel-item {display: flex;flex-direction: column;z-index: 1;position: relative;background-color: white;}#sk-container-id-1 div.sk-parallel-item:first-child::after {align-self: flex-end;width: 50%;}#sk-container-id-1 div.sk-parallel-item:last-child::after {align-self: flex-start;width: 50%;}#sk-container-id-1 div.sk-parallel-item:only-child::after {width: 0;}#sk-container-id-1 div.sk-dashed-wrapped {border: 1px dashed gray;margin: 0 0.4em 0.5em 0.4em;box-sizing: border-box;padding-bottom: 0.4em;background-color: white;}#sk-container-id-1 div.sk-label label {font-family: monospace;font-weight: bold;display: inline-block;line-height: 1.2em;}#sk-container-id-1 div.sk-label-container {text-align: center;}#sk-container-id-1 div.sk-container {/* jupyter's `normalize.less` sets `[hidden] { display: none; }` but bootstrap.min.css set `[hidden] { display: none !important; }` so we also need the `!important` here to be able to override the default hidden behavior on the sphinx rendered scikit-learn.org. See: https://github.com/scikit-learn/scikit-learn/issues/21755 */display: inline-block !important;position: relative;}#sk-container-id-1 div.sk-text-repr-fallback {display: none;}</style><div id=\"sk-container-id-1\" class=\"sk-top-container\"><div class=\"sk-text-repr-fallback\"><pre>LinearRegression()</pre><b>In a Jupyter environment, please rerun this cell to show the HTML representation or trust the notebook. <br />On GitHub, the HTML representation is unable to render, please try loading this page with nbviewer.org.</b></div><div class=\"sk-container\" hidden><div class=\"sk-item\"><div class=\"sk-estimator sk-toggleable\"><input class=\"sk-toggleable__control sk-hidden--visually\" id=\"sk-estimator-id-1\" type=\"checkbox\" checked><label for=\"sk-estimator-id-1\" class=\"sk-toggleable__label sk-toggleable__label-arrow\">LinearRegression</label><div class=\"sk-toggleable__content\"><pre>LinearRegression()</pre></div></div></div></div></div>"
      ],
      "text/plain": [
       "LinearRegression()"
      ]
     },
     "execution_count": 41,
     "metadata": {},
     "output_type": "execute_result"
    }
   ],
   "source": [
    "#Create the linear regression object:\n",
    "lm = LinearRegression()\n",
    "lm"
   ]
  },
  {
   "cell_type": "code",
   "execution_count": 42,
   "id": "baf97c09",
   "metadata": {
    "scrolled": true
   },
   "outputs": [
    {
     "data": {
      "text/html": [
       "<style>#sk-container-id-2 {color: black;background-color: white;}#sk-container-id-2 pre{padding: 0;}#sk-container-id-2 div.sk-toggleable {background-color: white;}#sk-container-id-2 label.sk-toggleable__label {cursor: pointer;display: block;width: 100%;margin-bottom: 0;padding: 0.3em;box-sizing: border-box;text-align: center;}#sk-container-id-2 label.sk-toggleable__label-arrow:before {content: \"▸\";float: left;margin-right: 0.25em;color: #696969;}#sk-container-id-2 label.sk-toggleable__label-arrow:hover:before {color: black;}#sk-container-id-2 div.sk-estimator:hover label.sk-toggleable__label-arrow:before {color: black;}#sk-container-id-2 div.sk-toggleable__content {max-height: 0;max-width: 0;overflow: hidden;text-align: left;background-color: #f0f8ff;}#sk-container-id-2 div.sk-toggleable__content pre {margin: 0.2em;color: black;border-radius: 0.25em;background-color: #f0f8ff;}#sk-container-id-2 input.sk-toggleable__control:checked~div.sk-toggleable__content {max-height: 200px;max-width: 100%;overflow: auto;}#sk-container-id-2 input.sk-toggleable__control:checked~label.sk-toggleable__label-arrow:before {content: \"▾\";}#sk-container-id-2 div.sk-estimator input.sk-toggleable__control:checked~label.sk-toggleable__label {background-color: #d4ebff;}#sk-container-id-2 div.sk-label input.sk-toggleable__control:checked~label.sk-toggleable__label {background-color: #d4ebff;}#sk-container-id-2 input.sk-hidden--visually {border: 0;clip: rect(1px 1px 1px 1px);clip: rect(1px, 1px, 1px, 1px);height: 1px;margin: -1px;overflow: hidden;padding: 0;position: absolute;width: 1px;}#sk-container-id-2 div.sk-estimator {font-family: monospace;background-color: #f0f8ff;border: 1px dotted black;border-radius: 0.25em;box-sizing: border-box;margin-bottom: 0.5em;}#sk-container-id-2 div.sk-estimator:hover {background-color: #d4ebff;}#sk-container-id-2 div.sk-parallel-item::after {content: \"\";width: 100%;border-bottom: 1px solid gray;flex-grow: 1;}#sk-container-id-2 div.sk-label:hover label.sk-toggleable__label {background-color: #d4ebff;}#sk-container-id-2 div.sk-serial::before {content: \"\";position: absolute;border-left: 1px solid gray;box-sizing: border-box;top: 0;bottom: 0;left: 50%;z-index: 0;}#sk-container-id-2 div.sk-serial {display: flex;flex-direction: column;align-items: center;background-color: white;padding-right: 0.2em;padding-left: 0.2em;position: relative;}#sk-container-id-2 div.sk-item {position: relative;z-index: 1;}#sk-container-id-2 div.sk-parallel {display: flex;align-items: stretch;justify-content: center;background-color: white;position: relative;}#sk-container-id-2 div.sk-item::before, #sk-container-id-2 div.sk-parallel-item::before {content: \"\";position: absolute;border-left: 1px solid gray;box-sizing: border-box;top: 0;bottom: 0;left: 50%;z-index: -1;}#sk-container-id-2 div.sk-parallel-item {display: flex;flex-direction: column;z-index: 1;position: relative;background-color: white;}#sk-container-id-2 div.sk-parallel-item:first-child::after {align-self: flex-end;width: 50%;}#sk-container-id-2 div.sk-parallel-item:last-child::after {align-self: flex-start;width: 50%;}#sk-container-id-2 div.sk-parallel-item:only-child::after {width: 0;}#sk-container-id-2 div.sk-dashed-wrapped {border: 1px dashed gray;margin: 0 0.4em 0.5em 0.4em;box-sizing: border-box;padding-bottom: 0.4em;background-color: white;}#sk-container-id-2 div.sk-label label {font-family: monospace;font-weight: bold;display: inline-block;line-height: 1.2em;}#sk-container-id-2 div.sk-label-container {text-align: center;}#sk-container-id-2 div.sk-container {/* jupyter's `normalize.less` sets `[hidden] { display: none; }` but bootstrap.min.css set `[hidden] { display: none !important; }` so we also need the `!important` here to be able to override the default hidden behavior on the sphinx rendered scikit-learn.org. See: https://github.com/scikit-learn/scikit-learn/issues/21755 */display: inline-block !important;position: relative;}#sk-container-id-2 div.sk-text-repr-fallback {display: none;}</style><div id=\"sk-container-id-2\" class=\"sk-top-container\"><div class=\"sk-text-repr-fallback\"><pre>LinearRegression()</pre><b>In a Jupyter environment, please rerun this cell to show the HTML representation or trust the notebook. <br />On GitHub, the HTML representation is unable to render, please try loading this page with nbviewer.org.</b></div><div class=\"sk-container\" hidden><div class=\"sk-item\"><div class=\"sk-estimator sk-toggleable\"><input class=\"sk-toggleable__control sk-hidden--visually\" id=\"sk-estimator-id-2\" type=\"checkbox\" checked><label for=\"sk-estimator-id-2\" class=\"sk-toggleable__label sk-toggleable__label-arrow\">LinearRegression</label><div class=\"sk-toggleable__content\"><pre>LinearRegression()</pre></div></div></div></div></div>"
      ],
      "text/plain": [
       "LinearRegression()"
      ]
     },
     "execution_count": 42,
     "metadata": {},
     "output_type": "execute_result"
    }
   ],
   "source": [
    "lm.fit(X_multi_selected,y)"
   ]
  },
  {
   "cell_type": "code",
   "execution_count": 45,
   "id": "a46aa043",
   "metadata": {},
   "outputs": [
    {
     "data": {
      "text/plain": [
       "array([14564.38239662, 14564.38239662, 15321.18295879, 10846.26949123,\n",
       "       15930.60266774, 14523.63344487, 18035.24481054, 17188.59563846,\n",
       "       21127.2739152 , 21421.37097323])"
      ]
     },
     "execution_count": 45,
     "metadata": {},
     "output_type": "execute_result"
    }
   ],
   "source": [
    "#We can output a prediction:\n",
    "Yhat= lm.predict(X_multi_selected)\n",
    "Yhat[0:10]  "
   ]
  },
  {
   "cell_type": "code",
   "execution_count": 47,
   "id": "ce5d81ac",
   "metadata": {},
   "outputs": [
    {
     "data": {
      "text/plain": [
       "14351.502828060962"
      ]
     },
     "execution_count": 47,
     "metadata": {},
     "output_type": "execute_result"
    }
   ],
   "source": [
    "#the value of the intercept (a)?\n",
    "lm.intercept_"
   ]
  },
  {
   "cell_type": "code",
   "execution_count": 48,
   "id": "b474bc45",
   "metadata": {},
   "outputs": [
    {
     "data": {
      "text/plain": [
       "<Figure size 400x300 with 0 Axes>"
      ]
     },
     "metadata": {},
     "output_type": "display_data"
    },
    {
     "data": {
      "image/png": "[encoded data removed]",
      "text/plain": [
       "<Figure size 584.625x500 with 1 Axes>"
      ]
     },
     "metadata": {},
     "output_type": "display_data"
    }
   ],
   "source": [
    "plt.figure(figsize=(4, 3))\n",
    "\n",
    "sns.displot([Yhat,y], kind=\"kde\")\n",
    "\n",
    "plt.title('Actual vs Fitted Values for Price')\n",
    "plt.xlabel('Price (in dollars)')\n",
    "plt.ylabel('Proportion of Cars')\n",
    "\n",
    "plt.show()\n",
    "plt.close()"
   ]
  },
  {
   "cell_type": "markdown",
   "id": "a4cec207",
   "metadata": {},
   "source": [
    "___"
   ]
  },
  {
   "cell_type": "markdown",
   "id": "b83acf54",
   "metadata": {},
   "source": [
    "## References\n",
    "<br>[Car Price Prediction Multiple Linear Regression](https://www.kaggle.com/datasets/hellbuoy/car-price-prediction?datasetId=383055&sortBy=voteCount)</br>\n",
    "<br>การวิเคราะห์การถดถอยและการประยุกต์ใช้ด้วยโปรแกรม R ,รศ.ดร. เพียรพูล กมลจิตร์ประภา</br>"
   ]
  },
  {
   "cell_type": "markdown",
   "id": "665fef07",
   "metadata": {},
   "source": [
    "___"
   ]
  },
  {
   "cell_type": "markdown",
   "id": "27eced0a",
   "metadata": {},
   "source": [
    "Gawragod Kuchaiyaphum"
   ]
  }
 ],
 "metadata": {
  "kernelspec": {
   "display_name": "Python 3 (ipykernel)",
   "language": "python",
   "name": "python3"
  },
  "language_info": {
   "codemirror_mode": {
    "name": "ipython",
    "version": 3
   },
   "file_extension": ".py",
   "mimetype": "text/x-python",
   "name": "python",
   "nbconvert_exporter": "python",
   "pygments_lexer": "ipython3",
   "version": "3.9.16"
  }
 },
 "nbformat": 4,
 "nbformat_minor": 5
}
